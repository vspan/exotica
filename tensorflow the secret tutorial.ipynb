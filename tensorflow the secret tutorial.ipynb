{
  "nbformat": 4,
  "nbformat_minor": 0,
  "metadata": {
    "colab": {
      "name": "Untitled0.ipynb",
      "version": "0.3.2",
      "provenance": [],
      "include_colab_link": true
    },
    "kernelspec": {
      "name": "python3",
      "display_name": "Python 3"
    }
  },
  "cells": [
    {
      "cell_type": "markdown",
      "metadata": {
        "id": "view-in-github",
        "colab_type": "text"
      },
      "source": [
        "<a href=\"https://colab.research.google.com/github/vspan/exotica/blob/master/tensorflow%20the%20secret%20tutorial.ipynb\" target=\"_parent\"><img src=\"https://colab.research.google.com/assets/colab-badge.svg\" alt=\"Open In Colab\"/></a>"
      ]
    },
    {
      "metadata": {
        "id": "fK2pUlvRmhnL",
        "colab_type": "code",
        "colab": {}
      },
      "cell_type": "code",
      "source": [
        " pip install tensorflow==2.0.0-alpha0 "
      ],
      "execution_count": 0,
      "outputs": []
    },
    {
      "metadata": {
        "id": "QG0b0J54njQA",
        "colab_type": "code",
        "colab": {
          "base_uri": "https://localhost:8080/",
          "height": 34
        },
        "outputId": "b4d7022b-cea7-4f26-ff6c-0e4ea715f8b7"
      },
      "cell_type": "code",
      "source": [
        "import numpy as np\n",
        "import tensorflow as tf\n",
        "print (\"Tensorflow\" , tf .__version__)"
      ],
      "execution_count": 8,
      "outputs": [
        {
          "output_type": "stream",
          "text": [
            "Tensorflow 2.0.0-alpha0\n"
          ],
          "name": "stdout"
        }
      ]
    },
    {
      "metadata": {
        "id": "jyst8ardoQGA",
        "colab_type": "code",
        "colab": {
          "base_uri": "https://localhost:8080/",
          "height": 34
        },
        "outputId": "99383a76-6a51-4c3d-d551-1213dae9744e"
      },
      "cell_type": "code",
      "source": [
        "a = tf.Variable (4.0)\n",
        "print (a.numpy())"
      ],
      "execution_count": 14,
      "outputs": [
        {
          "output_type": "stream",
          "text": [
            "4.0\n"
          ],
          "name": "stdout"
        }
      ]
    },
    {
      "metadata": {
        "id": "7lD2nQOMo0km",
        "colab_type": "code",
        "colab": {
          "base_uri": "https://localhost:8080/",
          "height": 34
        },
        "outputId": "0f3d94e4-83c1-431e-f4a8-397b74cf3211"
      },
      "cell_type": "code",
      "source": [
        "def f(x):\n",
        "  return a * x\n",
        "print (f(5))"
      ],
      "execution_count": 17,
      "outputs": [
        {
          "output_type": "stream",
          "text": [
            "tf.Tensor(20.0, shape=(), dtype=float32)\n"
          ],
          "name": "stdout"
        }
      ]
    },
    {
      "metadata": {
        "id": "M9oi8MwVptrX",
        "colab_type": "code",
        "colab": {
          "base_uri": "https://localhost:8080/",
          "height": 34
        },
        "outputId": "b982fc86-3a2b-4ff5-bd04-24e331894162"
      },
      "cell_type": "code",
      "source": [
        "loss = lambda : abs (f(5)-5)\n",
        "print (loss)"
      ],
      "execution_count": 37,
      "outputs": [
        {
          "output_type": "stream",
          "text": [
            "<function <lambda> at 0x7f80b87359d8>\n"
          ],
          "name": "stdout"
        }
      ]
    },
    {
      "metadata": {
        "id": "LzXNcQn9p7xp",
        "colab_type": "code",
        "colab": {
          "base_uri": "https://localhost:8080/",
          "height": 185
        },
        "outputId": "38217a01-87bb-4f49-e626-2ad0795aa0e8"
      },
      "cell_type": "code",
      "source": [
        "optimizer=tf.optimizers.Adam(learning_rate=1)\n",
        "for _ in range(10) :\n",
        " optimizer.minimize (loss, var_list=[a])\n",
        " print(a.numpy(), f(5))"
      ],
      "execution_count": 36,
      "outputs": [
        {
          "output_type": "stream",
          "text": [
            "1.3079549 tf.Tensor(6.5397744, shape=(), dtype=float32)\n",
            "1.2553235 tf.Tensor(6.2766175, shape=(), dtype=float32)\n",
            "0.8531085 tf.Tensor(4.2655425, shape=(), dtype=float32)\n",
            "0.8586334 tf.Tensor(4.293167, shape=(), dtype=float32)\n",
            "1.1070027 tf.Tensor(5.5350137, shape=(), dtype=float32)\n",
            "1.0889453 tf.Tensor(5.4447265, shape=(), dtype=float32)\n",
            "0.8826694 tf.Tensor(4.413347, shape=(), dtype=float32)\n",
            "0.88819426 tf.Tensor(4.4409714, shape=(), dtype=float32)\n",
            "1.0560611 tf.Tensor(5.280306, shape=(), dtype=float32)\n",
            "1.044621 tf.Tensor(5.223105, shape=(), dtype=float32)\n"
          ],
          "name": "stdout"
        }
      ]
    }
  ]
}